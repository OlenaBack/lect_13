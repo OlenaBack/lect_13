{
 "cells": [
  {
   "cell_type": "code",
   "execution_count": null,
   "metadata": {
    "collapsed": true
   },
   "outputs": [],
   "source": [
    "from pyspark.sql import SparkSession, functions as f, types as t"
   ]
  },
  {
   "cell_type": "code",
   "execution_count": null,
   "outputs": [],
   "source": [
    "spark = SparkSession.builder.appName('lect_13_home_task').getOrCreate()"
   ],
   "metadata": {
    "collapsed": false
   }
  },
  {
   "cell_type": "code",
   "execution_count": null,
   "outputs": [],
   "source": [
    "actor_df = spark.read.csv('./data/actor.csv', header=True, inferSchema=True)\n",
    "address_df = spark.read.csv('./data/address.csv', header=True, inferSchema=True)\n",
    "category_df = spark.read.csv('./data/category.csv', header=True, inferSchema=True)\n",
    "city_df = spark.read.csv('./data/city.csv', header=True, inferSchema=True)\n",
    "country_df = spark.read.csv('./data/country.csv', header=True, inferSchema=True)\n",
    "customer_df = spark.read.csv('./data/customer.csv', header=True, inferSchema=True)\n",
    "film_df = spark.read.csv('./data/film.csv', header=True, inferSchema=True)\n",
    "film_actor_df = spark.read.csv('./data/film_actor.csv', header=True, inferSchema=True)\n",
    "film_category_df = spark.read.csv('./data/film_category.csv', header=True, inferSchema=True)\n",
    "inventory_df = spark.read.csv('./data/inventory.csv', header=True, inferSchema=True)\n",
    "language_df = spark.read.csv('./data/language.csv', header=True, inferSchema=True)\n",
    "payment_df = spark.read.csv('./data/payment.csv', header=True, inferSchema=True)\n",
    "rental_df = spark.read.csv('./data/rental.csv', header=True, inferSchema=True)\n",
    "staff_df = spark.read.csv('./data/staff.csv', header=True, inferSchema=True)\n",
    "store_df = spark.read.csv('./data/store.csv', header=True, inferSchema=True)"
   ],
   "metadata": {
    "collapsed": false
   }
  },
  {
   "cell_type": "markdown",
   "source": [
    "# Домашнє завдання на тему Spark SQL\n",
    "\n",
    "Задачі з домашнього завдання на SQL потрібно розвʼязати за допомогою Spark SQL DataFrame API.\n",
    "\n",
    "- Дампи таблиць знаходяться в папці `data`. Датафрейми таблиць вже створені в клітинці вище.\n",
    "- Можете створювати стільки нових клітинок, скільки вам необхідно.\n",
    "- Розвʼязок кожної задачі має бути відображений в самому файлі (використати метод `.show()`)\n",
    "\n",
    "**Увага!**\n",
    "Використовувати мову запитів SQL безпосередньо забороняється, потрібно використовувати виключно DataFrame API!\n"
   ],
   "metadata": {
    "collapsed": false
   }
  },
  {
   "cell_type": "markdown",
   "source": [
    "1.\n",
    "Вивести кількість фільмів в кожній категорії.\n",
    "Результат відсортувати за спаданням."
   ],
   "metadata": {
    "collapsed": false
   }
  },
  {
   "cell_type": "code",
   "execution_count": null,
   "outputs": [],
   "source": [
    "category_df\\\n",
    "    .join(film_category_df,\n",
    "          \"category_id\", \"left\")\\\n",
    "    .groupby(category_df.name)\\\n",
    "    .agg(f.count(category_df.name).alias(\"film_count\"))\\\n",
    "    .orderBy(f.col(\"film_count\").desc())\\\n",
    "    .select(f.col(\"name\").alias(\"Film category\"),\n",
    "            f.col(\"film_count\").alias(\"Number of films\"))\\\n",
    "    .show()"
   ],
   "metadata": {
    "collapsed": false
   }
  },
  {
   "cell_type": "markdown",
   "source": [
    "2.\n",
    "Вивести 10 акторів, чиї фільми брали на прокат найбільше.\n",
    "Результат відсортувати за спаданням."
   ],
   "metadata": {
    "collapsed": false
   }
  },
  {
   "cell_type": "code",
   "execution_count": null,
   "outputs": [],
   "source": [
    "rental_df.join(inventory_df, \"inventory_id\")\\\n",
    "    .groupby(\"film_id\")\\\n",
    "    .agg(f.count(\"film_id\").alias(\"rent_count\"))\\\n",
    "    .join(film_actor_df, \"film_id\")\\\n",
    "    .groupby(\"actor_id\")\\\n",
    "    .agg(f.sum(\"rent_count\").alias(\"film_rent_count\"))\\\n",
    "    .join(actor_df, \"actor_id\")\\\n",
    "    .select(\n",
    "        f.col(\"first_name\").alias(\"First name\"),\n",
    "        f.col(\"last_name\").alias(\"Last name\"),\n",
    "        f.col(\"film_rent_count\").alias(\"Number of rents of the actor's films\"))\\\n",
    "    .orderBy(f.col(\"Film_rent_count\").desc())\\\n",
    "    .limit(10)\\\n",
    "    .show()"
   ],
   "metadata": {
    "collapsed": false
   }
  },
  {
   "cell_type": "markdown",
   "source": [
    "3.\n",
    "Вивести категорія фільмів, на яку було витрачено найбільше грошей\n",
    "в прокаті"
   ],
   "metadata": {
    "collapsed": false
   }
  },
  {
   "cell_type": "code",
   "execution_count": null,
   "outputs": [],
   "source": [
    "payment_df\\\n",
    "    .join(rental_df, \"rental_id\")\\\n",
    "    .groupby(\"inventory_id\")\\\n",
    "    .agg(f.sum(f.col(\"amount\")).alias(\"inventory_rent_amount\"))\\\n",
    "    .join(inventory_df, \"inventory_id\")\\\n",
    "    .groupby(\"film_id\")\\\n",
    "    .agg(f.sum(f.col(\"inventory_rent_amount\")).alias(\"film_rent_amount\"))\\\n",
    "    .join(film_category_df, \"film_id\")\\\n",
    "    .groupby(\"category_id\")\\\n",
    "    .agg(f.sum(f.col(\"film_rent_amount\")).alias(\"category_rent_amount\"))\\\n",
    "    .join(category_df, \"category_id\")\\\n",
    "    .orderBy(f.col(\"category_rent_amount\").desc())\\\n",
    "    .limit(1)\\\n",
    "    .select(f.col(\"name\").alias(\"Film category\"))\\\n",
    "    .show()"
   ],
   "metadata": {
    "collapsed": false
   }
  },
  {
   "cell_type": "markdown",
   "source": [
    "4.\n",
    "Вивести назви фільмів, яких не має в inventory.\n",
    "Запит має бути без оператора IN"
   ],
   "metadata": {
    "collapsed": false
   }
  },
  {
   "cell_type": "code",
   "execution_count": null,
   "outputs": [],
   "source": [
    "film_df.join(inventory_df, \"film_id\", \"left\")\\\n",
    "    .filter(inventory_df.film_id.isNull())\\\n",
    "    .select(f.col(\"title\").alias(\"Film\"))\\\n",
    "    .show()"
   ],
   "metadata": {
    "collapsed": false
   }
  },
  {
   "cell_type": "markdown",
   "source": [
    "5.\n",
    "Вивести топ 3 актори, які найбільше зʼявлялись в категорії фільмів “Children”"
   ],
   "metadata": {
    "collapsed": false
   }
  },
  {
   "cell_type": "code",
   "execution_count": null,
   "outputs": [],
   "source": [
    "film_category_df.join(category_df, \"category_id\")\\\n",
    "    .join(film_actor_df, \"film_id\")\\\n",
    "    .filter(category_df.name == 'Children')\\\n",
    "    .groupby(\"actor_id\")\\\n",
    "    .agg(f.count(f.col(\"actor_id\")).alias(\"film_count\"))\\\n",
    "    .orderBy(f.col(\"film_count\").desc())\\\n",
    "    .limit(3)\\\n",
    "    .join(actor_df, \"actor_id\")\\\n",
    "    .select(f.col(\"first_name\").alias(\"First name\"),\n",
    "        f.col(\"last_name\").alias(\"Last name\"),\n",
    "        f.col(\"film_count\").alias(\"Number of films\"))\\\n",
    "    .show()"
   ],
   "metadata": {
    "collapsed": false
   }
  },
  {
   "cell_type": "markdown",
   "source": [
    "6.\n",
    "Вивести міста з кількістю активних та неактивних клієнтів\n",
    "(в активних customer.active = 1).\n",
    "Результат відсортувати за кількістю неактивних клієнтів за спаданням."
   ],
   "metadata": {
    "collapsed": false
   }
  },
  {
   "cell_type": "code",
   "execution_count": null,
   "outputs": [],
   "source": [
    "cnt_cond = lambda cond: f.sum(f.when(cond, 1).otherwise(0))\n",
    "customer_df.join(address_df, \"address_id\")\\\n",
    "    .groupby(\"city_id\")\\\n",
    "    .agg(cnt_cond(f.col('active') == 1).alias('active'),\n",
    "         cnt_cond(f.col('active') ==0).alias('inactive'))\\\n",
    "    .join(city_df, \"city_id\")\\\n",
    "    .orderBy(f.col(\"inactive\").desc(), f.col(\"city\"))\\\n",
    "    .select(f.col(\"city\").alias(\"City\"),\n",
    "            f.col(\"active\").alias(\"Number of active clients\"),\n",
    "            f.col(\"inactive\").alias(\"Number of inactive clients\"))\\\n",
    "    .show(1000)"
   ],
   "metadata": {
    "collapsed": false
   }
  },
  {
   "cell_type": "code",
   "execution_count": null,
   "outputs": [],
   "source": [],
   "metadata": {
    "collapsed": false
   }
  }
 ],
 "metadata": {
  "kernelspec": {
   "display_name": "Python 3",
   "language": "python",
   "name": "python3"
  },
  "language_info": {
   "codemirror_mode": {
    "name": "ipython",
    "version": 2
   },
   "file_extension": ".py",
   "mimetype": "text/x-python",
   "name": "python",
   "nbconvert_exporter": "python",
   "pygments_lexer": "ipython2",
   "version": "2.7.6"
  }
 },
 "nbformat": 4,
 "nbformat_minor": 0
}
